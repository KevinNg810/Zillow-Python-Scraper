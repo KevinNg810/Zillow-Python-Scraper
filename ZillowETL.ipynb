{
 "cells": [
  {
   "cell_type": "code",
   "execution_count": null,
   "metadata": {},
   "outputs": [],
   "source": [
    "import pymongo\n",
    "from splinter import Browser\n",
    "from bs4 import BeautifulSoup\n",
    "import os\n",
    "import pandas as pd\n",
    "\n",
    "#input desired NYC neighborhood with spaces separated by hyphen <example> 'upper-west-side'\n",
    "\n",
    "def get_pull_page(n):\n",
    "    def init_browser():\n",
    "        import platform\n",
    "        if platform.system().lower() == 'windows'.lower():\n",
    "            executable_path = {\n",
    "                'executable_path': \n",
    "                os.path.join(os.getcwd(), 'chromedriver.exe')}\n",
    "            return Browser('chrome', **executable_path, headless=False)\n",
    "        else:\n",
    "            return Browser('chrome')\n",
    "\n",
    "    def get_html(browser, url = 'https://www.zillow.com/homes/for_rent/' + n):\n",
    "        browser.visit(url)\n",
    "        html = browser.html\n",
    "        return html\n",
    "    \n",
    "    \n",
    "    def get_listings(html):\n",
    "        soup = BeautifulSoup(html, \"html.parser\")\n",
    "        address = soup.find_all('h3', class_= 'list-card-addr')\n",
    "        price = soup.find_all('div', class_= 'list-card-price')\n",
    "        #size = soup.find_all('div', class_= 'list-card-price')\n",
    "        return address, price\n",
    "    \n",
    "    def scrape(browser):\n",
    "        html = get_html(browser)\n",
    "        address_list, price_list = get_listings(html)\n",
    "        return address_list, price_list\n",
    "    \n",
    "    def access_db(zillowscrape, For_Rent):\n",
    "        conn = 'mongodb://localhost:27017'\n",
    "        client = pymongo.MongoClient(conn)\n",
    "        db = client['zillowscrape']\n",
    "        collection = db['For_Rent']\n",
    "        return db, collection\n",
    "    \n",
    "    def main(n): # put n here\n",
    "        db, collection = access_db('zillowscrape', 'For_Rent')\n",
    "        browser = init_browser()\n",
    "        address_titles, price_titles=scrape(browser)\n",
    "        address_join = ','.join([t.text for t in address_titles])\n",
    "        price_join = ','.join([t.text for t in price_titles])\n",
    "        return address_join, price_join   \n",
    "    listings = main(n) # build n into main() func, pass a city or some variable into the main function\n",
    "    return listings\n",
    "search = get_pull_page('upper-west-side')\n",
    "search"
   ]
  },
  {
   "cell_type": "code",
   "execution_count": 23,
   "metadata": {},
   "outputs": [],
   "source": [
    "city_search = {'City':search}"
   ]
  },
  {
   "cell_type": "code",
   "execution_count": 24,
   "metadata": {},
   "outputs": [],
   "source": [
    "myclient = pymongo.MongoClient(\"mongodb://localhost:27017/\")\n",
    "mydb = myclient[\"zillowscrape\"]\n",
    "mycol = mydb[\"For_Rent\"]\n",
    "mydict = mycol.insert_one(city_search)"
   ]
  }
 ],
 "metadata": {
  "kernelspec": {
   "display_name": "Python 3",
   "language": "python",
   "name": "python3"
  },
  "language_info": {
   "codemirror_mode": {
    "name": "ipython",
    "version": 3
   },
   "file_extension": ".py",
   "mimetype": "text/x-python",
   "name": "python",
   "nbconvert_exporter": "python",
   "pygments_lexer": "ipython3",
   "version": "3.7.3"
  }
 },
 "nbformat": 4,
 "nbformat_minor": 2
}
